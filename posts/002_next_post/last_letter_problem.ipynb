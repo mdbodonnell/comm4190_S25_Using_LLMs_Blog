{
 "cells": [
  {
   "cell_type": "raw",
   "id": "da8b3640-b5ae-493d-9bbb-d070fdfa3ff8",
   "metadata": {},
   "source": [
    "---\n",
    "title: \"The last letter logic problem\"\n",
    "description: \"Can an LLM figure out a letter pattern problem?\"\n",
    "author: \"An LLM User\"\n",
    "date: \"1/29/2025\"\n",
    "categories:\n",
    "  - LLMs\n",
    "  - prompting\n",
    "  - logic\n",
    "  - reasoning\n",
    "---"
   ]
  },
  {
   "cell_type": "markdown",
   "id": "713eae8e-c253-4f0b-ae8e-f70a017f1a95",
   "metadata": {},
   "source": [
    "# A letter problem"
   ]
  },
  {
   "cell_type": "markdown",
   "id": "9b0b48fc-204c-4de5-a178-3c9e5b9f1465",
   "metadata": {},
   "source": [
    "if\n",
    "\n",
    "DOG CAT BANANA goes to GTA\n",
    "\n",
    "what does\n",
    "\n",
    "RUN WALK BIKE go to?...."
   ]
  },
  {
   "cell_type": "code",
   "execution_count": 1,
   "id": "fe108259-a0c7-45c8-ac4b-2699740f7f12",
   "metadata": {},
   "outputs": [],
   "source": [
    "def answer(text):\n",
    "    words = text.strip().split()\n",
    "    parts = [ w[-1] for w in words ]\n",
    "    return ''.join(parts)"
   ]
  },
  {
   "cell_type": "code",
   "execution_count": 2,
   "id": "b9e0119f-35b1-41e4-8155-db2550b0cb50",
   "metadata": {},
   "outputs": [
    {
     "data": {
      "text/plain": [
       "'GTA'"
      ]
     },
     "execution_count": 2,
     "metadata": {},
     "output_type": "execute_result"
    }
   ],
   "source": [
    "answer('DOG CAT BANANA')"
   ]
  }
 ],
 "metadata": {
  "kernelspec": {
   "display_name": "Python 3-12 (COMM4190)",
   "language": "python",
   "name": "python3-12_comm4190"
  },
  "language_info": {
   "codemirror_mode": {
    "name": "ipython",
    "version": 3
   },
   "file_extension": ".py",
   "mimetype": "text/x-python",
   "name": "python",
   "nbconvert_exporter": "python",
   "pygments_lexer": "ipython3",
   "version": "3.12.8"
  }
 },
 "nbformat": 4,
 "nbformat_minor": 5
}
