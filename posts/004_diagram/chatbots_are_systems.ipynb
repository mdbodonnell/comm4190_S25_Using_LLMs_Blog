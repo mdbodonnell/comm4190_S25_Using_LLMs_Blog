{
 "cells": [
  {
   "cell_type": "raw",
   "id": "4e4e1503-0194-4313-a73a-12c3026d159f",
   "metadata": {},
   "source": [
    "---\n",
    "title: \"# Chatbots are systems not just LLMs\"\n",
    "description: \"An example post from a Jupyter notebook\"\n",
    "author: \"An LLM User\"\n",
    "date: \"9/9/2025\"\n",
    "categories:\n",
    "  - LLMs\n",
    "  - ChatGPT\n",
    "  - systems\n",
    "  - diagram\n",
    "---\n"
   ]
  },
  {
   "cell_type": "markdown",
   "id": "5c55c211-f066-4c39-be5e-5a59b28408c0",
   "metadata": {},
   "source": [
    "### Chating with an LLM"
   ]
  },
  {
   "cell_type": "markdown",
   "id": "20334783-a5fc-407c-bba0-c874865d80cd",
   "metadata": {},
   "source": [
    "```{mermaid}\n",
    "\n",
    "    sequenceDiagram\n",
    "        actor U as User\n",
    "        box rgb(255,255,191) ChatGPT\n",
    "        participant L as LLM\n",
    "        end\n",
    "        \n",
    "        U ->> L: Why is the sky blue?\n",
    "        L ->> U: The sky appears blue primarily because of a phenomenon called Rayleigh scattering. When su....\n",
    "        U ->> L: Make it a haiku\n",
    "        L ->> U: Sunlight scatters wide,<br/>Blue dances through the clear sky,<br/>Day’s bright, azure sigh.\n",
    "\n",
    "```\n"
   ]
  },
  {
   "cell_type": "markdown",
   "id": "c86056b7-806c-410b-af90-d46ff9b90251",
   "metadata": {},
   "source": [
    "- Impression is that we are interacting directly with chosen model (e.g. GPT 4o)​\n",
    "- But tools like ChatGPT are complicated systems,  using multiple components to manage history, store information about you, filter and moderate content, rewrite your queries, etc. ​\n",
    "- These systems are closed and highly opaque.\n",
    "\n",
    "\n",
    "### Hypothetical but possible architecture "
   ]
  },
  {
   "cell_type": "markdown",
   "id": "a5d4e70d-4c31-4c40-b4b5-630c90428a75",
   "metadata": {},
   "source": [
    "```{mermaid}\n",
    "sequenceDiagram\n",
    "  autonumber\n",
    "  participant U as User\n",
    "  box rgb(255,255,191) ChatGPT\n",
    "  participant FE as Web UI\n",
    "  participant GW as API Gateway\n",
    "  participant APP as Application Layer\n",
    "  participant MOD as Moderation\n",
    "  participant DB as Chat History DB\n",
    "  participant RET as Retrieval / Tools\n",
    "  participant MR as Model Router\n",
    "  participant LLM as LLM Serving\n",
    "  participant OBS as Observability\n",
    "  end\n",
    "\n",
    "  U->>FE: Type prompt & press Enter\n",
    "  FE->>GW: POST /chat (session token)\n",
    "  GW->>APP: Forward request\n",
    "\n",
    "  APP->>DB: Load recent history\n",
    "  APP->>MOD: Pre-moderation (input)\n",
    "  MOD-->>APP: OK / transform / block\n",
    "\n",
    "  alt Input blocked\n",
    "    APP-->>FE: Return safe/blocked message\n",
    "    APP->>OBS: Log policy event\n",
    "  else Input allowed\n",
    "    opt Retrieval / tools (optional)\n",
    "      APP->>RET: Retrieve docs / run tools\n",
    "      RET-->>APP: Snippets / tool outputs\n",
    "    end\n",
    "\n",
    "    APP->>MR: Choose target model (plan/flags)\n",
    "    MR-->>APP: Model endpoint\n",
    "\n",
    "    APP->>LLM: Prompt = history + user + snippets\n",
    "    LLM-->>APP: Stream tokens (partial chunks)\n",
    "\n",
    "    APP->>MOD: Post-moderation (output)\n",
    "    MOD-->>APP: OK / redact / re-ask\n",
    "\n",
    "    APP->>DB: Save user msg & model reply\n",
    "    APP->>OBS: Metrics / traces / usage\n",
    "\n",
    "    APP-->>GW: Stream response\n",
    "    GW-->>FE: Stream to UI\n",
    "    FE-->>U: Render final answer\n",
    "  end\n",
    "\n",
    "```\n",
    "\n"
   ]
  },
  {
   "cell_type": "markdown",
   "id": "3c9711fb-d7af-4db2-9d1c-5254d4eb701c",
   "metadata": {},
   "source": [
    "* The actual LLM just a component in larger system "
   ]
  },
  {
   "cell_type": "code",
   "execution_count": null,
   "id": "83f39af1-7050-47f4-8ca9-21be2c963845",
   "metadata": {},
   "outputs": [],
   "source": []
  }
 ],
 "metadata": {
  "kernelspec": {
   "display_name": "Python 3-12 (COMM4190)",
   "language": "python",
   "name": "python3-12_comm4190"
  },
  "language_info": {
   "codemirror_mode": {
    "name": "ipython",
    "version": 3
   },
   "file_extension": ".py",
   "mimetype": "text/x-python",
   "name": "python",
   "nbconvert_exporter": "python",
   "pygments_lexer": "ipython3",
   "version": "3.12.11"
  }
 },
 "nbformat": 4,
 "nbformat_minor": 5
}
